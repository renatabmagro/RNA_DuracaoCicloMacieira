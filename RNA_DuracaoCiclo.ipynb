{
  "nbformat": 4,
  "nbformat_minor": 0,
  "metadata": {
    "colab": {
      "provenance": [],
      "authorship_tag": "ABX9TyPXPTvb2XmDCP052jIuEOIK",
      "include_colab_link": true
    },
    "kernelspec": {
      "name": "ir",
      "display_name": "R"
    },
    "language_info": {
      "name": "R"
    }
  },
  "cells": [
    {
      "cell_type": "markdown",
      "metadata": {
        "id": "view-in-github",
        "colab_type": "text"
      },
      "source": [
        "<a href=\"https://colab.research.google.com/github/renatabmagro/RNA_DuracaoCicloMacieira/blob/main/RNA_DuracaoCiclo.ipynb\" target=\"_parent\"><img src=\"https://colab.research.google.com/assets/colab-badge.svg\" alt=\"Open In Colab\"/></a>"
      ]
    },
    {
      "cell_type": "markdown",
      "source": [
        "Script para implementação de uma rede neural artificial do tipo Multilayer Perceptron para a previsão da duração do ciclo produtivo da macieira a partir de dados meteorológicos.\n",
        "\n",
        "> Para construir esse código foram utilizados dados meteorológicos + as datas de início da floração e de ínicio da colheita da macieira; ou seja, considerou-se o **ciclo produtivo** como sendo correspondente ao período entre o início da floração e o início da colheita. \n",
        "\n",
        "> A planilha contendo os dados necessários para rodar este script pode ser encontrada em: C:\\Users\\Luciano-PC2\\Desktop\\Renata_2022\\03. Rstudio\\Dados\\Dados_extra\n",
        "\n",
        ">> Para comparar o desempenho de diferentes redes neurais, realizou-se a experimentação de:\n",
        "\n",
        "  * RNA com 1 camada interna;\n",
        "  * RNA com 3 camadas internas. \n",
        "\n",
        ">> Um passo anterior a implementação da RNA foi a análise de correlação entre as variáveis para definir as entrada da rede. Com base nos resultados da análise de correlação, foram selecionadas como variáveis de entrada (inputs): \n",
        "\n",
        "*   Temperatura máxima\n",
        "*   Temperatura mínima \n",
        "* Temperatura média \n",
        "* Radiação solar \n",
        "* Graus-dia\n",
        "* Graus-dia acumulado \n",
        "\n",
        "OBS: os dados meteorológicos são referentes ao período **2008-2022**.\n",
        "\n",
        ">> A variável de saída (output) corresponde à duração do ciclo (em dias julianos)\n",
        "\n",
        "\n",
        "\n",
        "\n"
      ],
      "metadata": {
        "id": "CuBKd9E90-Rm"
      }
    },
    {
      "cell_type": "code",
      "source": [
        "# Instalação das bibliotecas\n",
        "install.packages(\"readxl\")\n",
        "library(readxl)\n",
        "install.packages(\"tidyr\")\n",
        "install.packages(\"tidyverse\")\n",
        "library(tidyr)\n",
        "library(tidyverse)\n",
        "install.packages(\"dplyr\")\n",
        "library(dplyr)\n",
        "install.packages(\"neuralnet\")\n",
        "library(neuralnet)"
      ],
      "metadata": {
        "id": "ZBBSHuT8p_SU"
      },
      "execution_count": null,
      "outputs": []
    },
    {
      "cell_type": "code",
      "execution_count": null,
      "metadata": {
        "id": "XJaGAlcc0FqE"
      },
      "outputs": [],
      "source": [
        "# Leitura dos dados \n",
        "dados_fen = read_excel(\"BancoDadosFen3.xlsx\")\n",
        "\n",
        "# Visualização dados\n",
        "head(dados_fen)\n",
        "tail(dados_fen)"
      ]
    },
    {
      "cell_type": "code",
      "source": [
        "# Estaísticas e características gerais dos dados----\n",
        "glimpse(dados_fen)\n",
        "\n",
        "summary(dados_fen)"
      ],
      "metadata": {
        "id": "y_1oCrCRrXuM"
      },
      "execution_count": null,
      "outputs": []
    },
    {
      "cell_type": "code",
      "source": [
        "# Organização dos dados-----\n",
        "\n",
        "#Retirada da coluna DiasJulianos - vou usar só a  Duração do ciclo (Dciclo)\n",
        "#Retirada da variável 'Data' pois não será necessária para a previsão \n",
        "#Retirada da variável 'Precip' -> de acordo com os resultados da análise de correlação essa variável apresenta correlação negativa e pode não contribuir para a previsão \n",
        "dados_input <- select(dados_fen, -DiasJul, -data, -Precip )\n",
        "\n",
        "# Visualizar os dados de entrada selecionados \n",
        "head(dados_input)"
      ],
      "metadata": {
        "id": "oV1ra12Trhg7"
      },
      "execution_count": null,
      "outputs": []
    },
    {
      "cell_type": "code",
      "source": [
        "# Divisão do conjunto de dados em treino e teste | treino (70%); teste (30%)-----\n",
        "\n",
        "set.seed(2022)\n",
        "split <- sample(1:nrow(dados_input), as.integer(0.7*nrow(dados_input)), F)\n",
        "#split: sample(x, numero de valores a selecionar, )\n",
        "\n",
        "train <- dados_input[split,] #dados de treinamento\n",
        "test <- dados_input[-split,] #dados de test\n",
        "\n",
        "\n",
        "# Visualizar os dados, caso necessário \n",
        "# head(train)\n",
        "# head(test)"
      ],
      "metadata": {
        "id": "-WVtyCv2sd5B"
      },
      "execution_count": 7,
      "outputs": []
    },
    {
      "cell_type": "code",
      "source": [
        "# Normalização dos dados -> método: mínimo e máximo \n",
        "  #Esse é uma etapa necessária para evitar que a RNA favoreça determinados dados \n",
        "\n",
        "maxs_train <- apply(train, 2, max) \n",
        "mins_train <- apply(train, 2, min)\n",
        "\n",
        "maxs_test <- apply(test, 2, max) \n",
        "mins_test <- apply(test, 2, min)\n",
        "\n",
        "\n",
        "train_set = scale(train, center = mins_train, scale = maxs_train-mins_train)\n",
        "test_set = scale(test, center = mins_test, scale = maxs_test-mins_test)\n",
        "\n",
        "# Visualizar os conjuntos de treinamento e teste normalizados, caso necessário \n",
        "# head(train_set)\n",
        "# head(test_set)"
      ],
      "metadata": {
        "id": "lm3uSr10s2IG"
      },
      "execution_count": 9,
      "outputs": []
    },
    {
      "cell_type": "code",
      "source": [
        "# Transformar os dados de teste e treino em um data frame\n",
        "train_set <- as.data.frame(train_set)\n",
        "test_set <- as.data.frame(test_set)"
      ],
      "metadata": {
        "id": "Xo3FLEBLtTGK"
      },
      "execution_count": 14,
      "outputs": []
    },
    {
      "cell_type": "code",
      "source": [
        "# Dividir os dados em variáveis preditoras (x) e previstas (y)\n",
        "x_train <- select(train_set, -Dciclo)\n",
        "y_train <- select(train_set, Dciclo)\n",
        "\n",
        "x_test <- select(test_set, -Dciclo)\n",
        "y_test <- select(test_set, Dciclo)"
      ],
      "metadata": {
        "id": "KweH8TKAtW9H"
      },
      "execution_count": 15,
      "outputs": []
    },
    {
      "cell_type": "code",
      "source": [
        "########################################################\n",
        "##  Implementação da RNA pelo pacote \"neuralnet\" \n",
        "##  Na fórmula da RNA: \n",
        "##  o argumento 'linear.output' é utilizado para especificar se queremos realizar uma Regressão => linear.output=TRUE ou uma Classificação => linear.output=FALSE\n",
        "########################################################"
      ],
      "metadata": {
        "id": "jG4rvREstqsN"
      },
      "execution_count": null,
      "outputs": []
    },
    {
      "cell_type": "code",
      "source": [
        "# Definição de uma variável (sigmoid) para a função Sigmoide\n",
        "sigmoid = function(x) {\n",
        "  1 / (1 + exp(-x))\n",
        "}"
      ],
      "metadata": {
        "id": "iVdj4xDGt9br"
      },
      "execution_count": 11,
      "outputs": []
    },
    {
      "cell_type": "code",
      "source": [
        "# Implementação do modelo com a função sigmoid\n",
        "  # RNA MLP; 1 camada interna; 3 neurônios internos; função de ativação sigmóide\n",
        "set.seed(123)\n",
        "nn_sig <- neuralnet(Dciclo~Tmax+Tmin+Tmed+Rsolar+GD+GDacum,data=cbind(x_train, y_train), \n",
        "              hidden=3, act.fct = sigmoid,\n",
        "              linear.output = TRUE)\n",
        "plot(nn_sig, rep=\"best\")"
      ],
      "metadata": {
        "id": "b2uWf9GKuLqw"
      },
      "execution_count": null,
      "outputs": []
    },
    {
      "cell_type": "code",
      "source": [
        "# Previsão modelo nn_sig\n",
        "previsao_nn_sig <- compute(nn_sig, x_test)\n",
        "pr_nn_sig <- previsao_nn_sig$net.result*(max(dados_input$Dciclo)-min(dados_input$Dciclo))+min(dados_input$Dciclo) #voltando para a escala normal -> resultado da previsão\n",
        "test.r <- y_test*(max(dados_input$Dciclo)-min(dados_input$Dciclo))+min(dados_input$Dciclo) #voltando p/ a escala normal -> dados de teste"
      ],
      "metadata": {
        "id": "WM9lMkCtua3y"
      },
      "execution_count": 18,
      "outputs": []
    },
    {
      "cell_type": "code",
      "source": [
        "# Criação dataframe dos resultados do modelo nn_sig (RNA com função sigmoid)\n",
        "resultados_nn_sig <- data.frame(test.r, pr_nn_sig)\n",
        "resultados_nn_sig"
      ],
      "metadata": {
        "id": "sB76sMehupx5"
      },
      "execution_count": null,
      "outputs": []
    },
    {
      "cell_type": "code",
      "source": [
        "# Instalação da biblioteca para calcular as métricas de desempenho do modelo\n",
        "install.packages(\"Metrics\")\n",
        "library (Metrics)"
      ],
      "metadata": {
        "id": "6E3S6_CTv10w"
      },
      "execution_count": null,
      "outputs": []
    },
    {
      "cell_type": "code",
      "source": [
        "#métricas da previsão com o modelo nn_sig\n",
        "  # RNA MLP; 1 camada interna; 3 neurônios internos; função de ativação sigmóide\n",
        "  \n",
        "#MSE\n",
        "MSE_nn_sig <- mse(resultados_nn_sig$Dciclo, resultados_nn_sig$pr_nn_sig)\n",
        "\n",
        "#RMSE\n",
        "RMSE_nn_sig <- rmse(resultados_nn_sig$Dciclo, resultados_nn_sig$pr_nn_sig)\n",
        "\n",
        "#MAE\n",
        "MAE_nn_sig <- mae(resultados_nn_sig$Dciclo, resultados_nn_sig$pr_nn_sig)\n",
        "\n",
        "print(paste(MSE_nn_sig, RMSE_nn_sig, MAE_nn_sig))"
      ],
      "metadata": {
        "id": "-j7p17dTuxB-"
      },
      "execution_count": null,
      "outputs": []
    },
    {
      "cell_type": "code",
      "source": [
        "################################################################################################"
      ],
      "metadata": {
        "id": "0C-UG_T6wAlH"
      },
      "execution_count": null,
      "outputs": []
    },
    {
      "cell_type": "code",
      "source": [
        "#implementação do modelo com a função sigmoid\n",
        "  # RNA MLP; 2 camadas interna; 5,2 neurônios internos; função de ativação sigmóide\n",
        "set.seed(123)\n",
        "nn_sig2 <- neuralnet(Dciclo~Tmax+Tmin+Tmed+Rsolar+GD+GDacum,data=cbind(x_train, y_train), \n",
        "              hidden=c(5,2), rep=5, algorithm=\"rprop+\",\n",
        "               act.fct = sigmoid,\n",
        "              linear.output = TRUE)\n",
        "plot(nn_sig2, rep=\"best\")"
      ],
      "metadata": {
        "id": "wO9emd0rwCST"
      },
      "execution_count": null,
      "outputs": []
    },
    {
      "cell_type": "code",
      "source": [
        "# Previsão modelo nn_sig2\n",
        "previsao_nn_sig2 <- compute(nn_sig2, x_test)\n",
        "pr_nn_sig2 <- previsao_nn_sig2$net.result*(max(dados_input$Dciclo)-min(dados_input$Dciclo))+min(dados_input$Dciclo) #voltando para a escala normal -> resultado da previsão\n",
        "test.r <- y_test*(max(dados_input$Dciclo)-min(dados_input$Dciclo))+min(dados_input$Dciclo) #voltando p/ a escala normal -> dados de teste\n",
        "\n",
        "# Criação dataframe dos resultados do modelo nn_sig2 \n",
        "resultados_nn_sig2 <- data.frame(test.r, pr_nn_sig2)\n",
        "#resultados_nn_sig2\n",
        "\n",
        "#métricas da previsão com o modelo nn_sig2\n",
        "  # RNA MLP; 2 camadas interna; 5,2 neurônios internos; função de ativação sigmóide\n",
        "  \n",
        "#MSE\n",
        "MSE_nn_sig2 <- mse(resultados_nn_sig2$Dciclo, resultados_nn_sig2$pr_nn_sig2)\n",
        "\n",
        "#RMSE\n",
        "RMSE_nn_sig2 <- rmse(resultados_nn_sig2$Dciclo, resultados_nn_sig2$pr_nn_sig2)\n",
        "\n",
        "#MAE\n",
        "MAE_nn_sig2 <- mae(resultados_nn_sig2$Dciclo, resultados_nn_sig2$pr_nn_sig2)\n",
        "\n",
        "print(paste(MSE_nn_sig2, RMSE_nn_sig2, MAE_nn_sig2))"
      ],
      "metadata": {
        "id": "LIZtLUNuwJ2s"
      },
      "execution_count": null,
      "outputs": []
    },
    {
      "cell_type": "code",
      "source": [
        "#####################################################################################"
      ],
      "metadata": {
        "id": "c5PUMp7jwn6Z"
      },
      "execution_count": null,
      "outputs": []
    },
    {
      "cell_type": "code",
      "source": [
        "# Comparar graficamente modelo nn e nn2 ----- \n",
        "par(mfrow=c(1,2))\n",
        "\n",
        "plot(resultados_nn_sig, col='red',main='Real vs predicted NN',pch=18,cex=0.7)\n",
        "abline(0,1,lwd=2)\n",
        "legend('bottomright',legend='NN - 1 hidden layer',pch=18,col='red', bty='n')\n",
        "\n",
        "plot(resultados_nn_sig2, col='blue',main='Real vs predicted NN2',pch=18,cex=0.7)\n",
        "abline(0,1,lwd=2)\n",
        "legend('bottomright',legend='NN2 - 2 hidden layer',pch=18,col='blue', bty='n')"
      ],
      "metadata": {
        "id": "SORRfx6Cwp7Q"
      },
      "execution_count": null,
      "outputs": []
    },
    {
      "cell_type": "code",
      "source": [
        "# Comparar graficamente------\n",
        "plot(resultados_nn_sig,col='red',main='Real vs predicted NN',pch=18,cex=0.7)\n",
        "points(resultados_nn_sig2,col='blue',pch=18,cex=0.7)\n",
        "abline(0,1,lwd=2)\n",
        "legend('bottomright',legend=c('NN','NN2'),pch=18,col=c('red','blue'))"
      ],
      "metadata": {
        "id": "vcZ6slbXxDVz"
      },
      "execution_count": null,
      "outputs": []
    }
  ]
}